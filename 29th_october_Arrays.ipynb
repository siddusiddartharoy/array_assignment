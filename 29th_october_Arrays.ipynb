{
  "nbformat": 4,
  "nbformat_minor": 0,
  "metadata": {
    "colab": {
      "provenance": []
    },
    "kernelspec": {
      "name": "python3",
      "display_name": "Python 3"
    },
    "language_info": {
      "name": "python"
    }
  },
  "cells": [
    {
      "cell_type": "code",
      "execution_count": 23,
      "metadata": {
        "id": "VXCwIz3fOosG",
        "colab": {
          "base_uri": "https://localhost:8080/"
        },
        "outputId": "d28256c1-f99f-4cd3-debd-dd9547731376"
      },
      "outputs": [
        {
          "output_type": "execute_result",
          "data": {
            "text/plain": [
              "[1, 2, 2, 4, 5, 9]"
            ]
          },
          "metadata": {},
          "execution_count": 23
        }
      ],
      "source": [
        "# 1. given an array to check duplicates\n",
        "\n",
        "arr=[1,2,4,2,5,9]\n",
        "arr.sort() #sorting the arr\n",
        "arr"
      ]
    },
    {
      "cell_type": "code",
      "source": [
        "dup = False\n",
        "for i in range(1,len(arr)): # for loop to check duplicates in consecutive\n",
        "  if arr[i]==arr[i-1]:\n",
        "    dup = True\n",
        "    break\n",
        "print(dup)"
      ],
      "metadata": {
        "colab": {
          "base_uri": "https://localhost:8080/"
        },
        "id": "8YIaWmHaZjRm",
        "outputId": "653c5ae3-c6ec-4d76-83a7-0f8bdf43b691"
      },
      "execution_count": null,
      "outputs": [
        {
          "output_type": "stream",
          "name": "stdout",
          "text": [
            "True\n"
          ]
        }
      ]
    },
    {
      "cell_type": "code",
      "source": [
        " # 2 . given array and an integer k, rotate the array to the right by k steps.\n",
        "\n",
        "arr2 = [1,2,3,4,5,6,7]\n",
        "k= 3\n",
        "arr2 = arr2[::-1]    # reversing array\n",
        "arr2[:k] , arr2[k:] = arr2[:k][::-1] ,arr2[k:][::-1]   #  taking sub arrays with k parameter then reversing and replacing them\n",
        "print(arr2)\n"
      ],
      "metadata": {
        "id": "nJCkHVbXZ4yr",
        "colab": {
          "base_uri": "https://localhost:8080/"
        },
        "outputId": "b0d5a77d-f621-463f-c987-a890b6c86d77"
      },
      "execution_count": 22,
      "outputs": [
        {
          "output_type": "stream",
          "name": "stdout",
          "text": [
            "[5, 6, 7, 1, 2, 3, 4]\n"
          ]
        }
      ]
    },
    {
      "cell_type": "code",
      "source": [
        "# 3 Reverse the given array"
      ],
      "metadata": {
        "id": "QfhoocczfXO-"
      },
      "execution_count": null,
      "outputs": []
    },
    {
      "cell_type": "code",
      "source": [
        "arr3 = [2,4,5,7,9,12]\n",
        "arr3 = arr3[::-1]  # reversing the array\n",
        "print(arr3)"
      ],
      "metadata": {
        "colab": {
          "base_uri": "https://localhost:8080/"
        },
        "id": "V5LrL5LgxJOi",
        "outputId": "54f1f60e-7526-4b0b-ccca-4d453697e529"
      },
      "execution_count": null,
      "outputs": [
        {
          "output_type": "stream",
          "name": "stdout",
          "text": [
            "[12, 9, 7, 5, 4, 2]\n"
          ]
        }
      ]
    },
    {
      "cell_type": "code",
      "source": [
        "# 4 find the max element in array\n",
        "\n",
        "arr4 = [10,5,20,8,15]\n",
        "def maximum(arr4):\n",
        "  maxi = arr4[0]\n",
        "  for i in range(1,len(arr4)):\n",
        "    maxi = max(maxi,arr4[i])\n",
        "  return maxi\n",
        "if len(arr4)==0:\n",
        "  print(\"Empty array\")\n",
        "else:\n",
        "  print(maximum(arr4))"
      ],
      "metadata": {
        "colab": {
          "base_uri": "https://localhost:8080/"
        },
        "id": "2pIJVIlyxU_B",
        "outputId": "31d8b5fc-912c-4676-b58a-8563208c4f5c"
      },
      "execution_count": null,
      "outputs": [
        {
          "output_type": "stream",
          "name": "stdout",
          "text": [
            "20\n"
          ]
        }
      ]
    },
    {
      "cell_type": "code",
      "source": [
        "# 5 . Remove the duplicate element in sorted array with out using any extra data scruture"
      ],
      "metadata": {
        "id": "_XEHofaWyP0U"
      },
      "execution_count": null,
      "outputs": []
    },
    {
      "cell_type": "code",
      "source": [
        "arr5 = [1,1,2,2,2,3,3,4,4,4,5,5]\n",
        "n = len(arr5)\n",
        "j=1\n",
        "for i in range(1,n):\n",
        "  if arr5[i-1]!=arr5[i]:   # when ever a duplicate occurs we override the j th position with new element\n",
        "    arr5[j]= arr5[i]\n",
        "    j+=1\n",
        "arr5 = arr5[:j]\n",
        "print(arr5)\n"
      ],
      "metadata": {
        "id": "EZaNeH1EzFqn",
        "colab": {
          "base_uri": "https://localhost:8080/"
        },
        "outputId": "4adc2b7a-81af-4725-c205-ef676d2eb424"
      },
      "execution_count": 3,
      "outputs": [
        {
          "output_type": "stream",
          "name": "stdout",
          "text": [
            "[1, 2, 3, 4, 5]\n"
          ]
        }
      ]
    },
    {
      "cell_type": "code",
      "source": [],
      "metadata": {
        "id": "XWOyF3r_L1Vi"
      },
      "execution_count": null,
      "outputs": []
    }
  ]
}